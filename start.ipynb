{
 "cells": [
  {
   "cell_type": "code",
   "execution_count": 3,
   "id": "6a228558",
   "metadata": {},
   "outputs": [
    {
     "data": {
      "text/html": [
       "<table class=\"show_images\" style=\"border-spacing:0px;\"><tr><td style=\"padding:1px;\"><img width=\"640\" height=\"480\" style=\"image-rendering:auto; object-fit:cover;\" src=\"data:image/png;base64,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\"/></td></tr></table>"
      ],
      "text/plain": [
       "<IPython.core.display.HTML object>"
      ]
     },
     "metadata": {},
     "output_type": "display_data"
    }
   ],
   "source": [
    "import mujoco\n",
    "import mediapy as media\n",
    "import os\n",
    "import glfw\n",
    "import numpy as np\n",
    "\n",
    "def has_valid_renderer():\n",
    "    \"\"\"Checks if OpenGL can be initialized successfully.\"\"\"\n",
    "    # Try initializing GLFW\n",
    "    if not glfw.init():\n",
    "        print(\"GLFW initialization failed. No valid renderer.\")\n",
    "        return False\n",
    "    \n",
    "    # Try creating a hidden window to test OpenGL context creation\n",
    "    window = glfw.create_window(640, 480, \"Renderer Test\", None, None)\n",
    "    if not window:\n",
    "        print(\"GLFW could not create an OpenGL context. No valid renderer.\")\n",
    "        glfw.terminate()\n",
    "        return False\n",
    "    \n",
    "    glfw.make_context_current(window)\n",
    "    renderer_available = True  # If we reach this point, rendering should work\n",
    "\n",
    "    # Cleanup\n",
    "    glfw.destroy_window(window)\n",
    "    glfw.terminate()\n",
    "    return renderer_available\n",
    "\n",
    "def render_state(model, data):\n",
    "    if not has_valid_renderer():\n",
    "        print(\"Error rendering the scene. Make sure you have a valid OpenGL installation.\")\n",
    "        return\n",
    "\n",
    "    mujoco.mj_forward(model, data)\n",
    "    with mujoco.Renderer(model, height=480, width=640) as renderer:\n",
    "        renderer.update_scene(data, \"front_view\")  # Ensure scene is updated with final simulation state\n",
    "        media.show_image(renderer.render())\n",
    "\n",
    "def set_joint_positions(model, data, joints):\n",
    "    joint_ids = [mujoco.mj_name2id(model, mujoco.mjtObj.mjOBJ_JOINT, f\"panda_joint{i+1}\") for i in range(7)] # SOLUTION\n",
    "    joint_qpos_idx = model.jnt_qposadr[joint_ids]\n",
    "    data.qpos[joint_qpos_idx] = joints\n",
    "    mujoco.mj_forward(model, data)\n",
    "\n",
    "def get_joint_positions(model, data):\n",
    "    joint_ids = [mujoco.mj_name2id(model, mujoco.mjtObj.mjOBJ_JOINT, f\"panda_joint{i+1}\") for i in range(7)] # SOLUTION\n",
    "    joint_qpos_idx = model.jnt_qposadr[joint_ids]\n",
    "    return data.qpos[joint_qpos_idx]\n",
    "\n",
    "def get_home_joint_positions(model, data):\n",
    "    return [0, -np.pi/3, 0, -5*np.pi/6, 0, np.pi/2, np.pi/4]\n",
    "\n",
    "def get_goal_joint_positions(model, data):\n",
    "    return [-np.pi/2, np.pi/6, 0, -np.pi/3, np.pi/2, np.pi/2, np.pi/4]\n",
    "    \n",
    "# Define the MJCF path and mesh directory\n",
    "mjcf_path = 'assets/Panda/panda.mjcf'\n",
    "mesh_dir = 'assets/Panda/meshes/collision/'\n",
    "\n",
    "# Load mesh files into a dictionary\n",
    "assets = {}\n",
    "for file_name in os.listdir(mesh_dir):\n",
    "    file_path = os.path.join(mesh_dir, file_name)\n",
    "    with open(file_path, 'rb') as f:\n",
    "        assets[f'meshes/collision/{file_name}'] = f.read()\n",
    "\n",
    "# Load the MuJoCo model\n",
    "model = mujoco.MjModel.from_xml_path(mjcf_path, assets=assets)\n",
    "data = mujoco.MjData(model)\n",
    "data.qpos[14:16] = 0.04\n",
    "\n",
    "# Call mj_forward to initialize the state\n",
    "mujoco.mj_forward(model, data)\n",
    "\n",
    "# Set the joint positions\n",
    "set_joint_positions(model, data, get_home_joint_positions(model, data))\n",
    "\n",
    "# Render the scene\n",
    "render_state(model, data)"
   ]
  },
  {
   "cell_type": "code",
   "execution_count": null,
   "id": "054bda0d",
   "metadata": {},
   "outputs": [],
   "source": []
  }
 ],
 "metadata": {
  "kernelspec": {
   "display_name": "project",
   "language": "python",
   "name": "python3"
  },
  "language_info": {
   "codemirror_mode": {
    "name": "ipython",
    "version": 3
   },
   "file_extension": ".py",
   "mimetype": "text/x-python",
   "name": "python",
   "nbconvert_exporter": "python",
   "pygments_lexer": "ipython3",
   "version": "3.12.3"
  }
 },
 "nbformat": 4,
 "nbformat_minor": 5
}
